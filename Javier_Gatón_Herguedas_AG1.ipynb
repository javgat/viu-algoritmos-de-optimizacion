{
  "nbformat": 4,
  "nbformat_minor": 0,
  "metadata": {
    "colab": {
      "provenance": [],
      "collapsed_sections": [
        "j4nEow0jd-60",
        "WX_RIJ36eQbj",
        "sRCufNJ5ebTC",
        "OpthFh4TgY4b",
        "feaB2JKI06Nr",
        "44kUYpsA1NSp",
        "AW4PuiZE3ucu",
        "IKmvCfrp40ES",
        "yDS4kXwL5J4b",
        "DtmXwGWDE0lE"
      ],
      "include_colab_link": true
    },
    "kernelspec": {
      "name": "python3",
      "display_name": "Python 3"
    },
    "language_info": {
      "name": "python"
    }
  },
  "cells": [
    {
      "cell_type": "markdown",
      "metadata": {
        "id": "view-in-github",
        "colab_type": "text"
      },
      "source": [
        "<a href=\"https://colab.research.google.com/github/javgat/viu-algoritmos-de-optimizacion/blob/master/Javier_Gat%C3%B3n_Herguedas_AG1.ipynb\" target=\"_parent\"><img src=\"https://colab.research.google.com/assets/colab-badge.svg\" alt=\"Open In Colab\"/></a>"
      ]
    },
    {
      "cell_type": "markdown",
      "metadata": {
        "id": "GG2D6vLdYwwy"
      },
      "source": [
        "Actividad Guiada 1 de Algoritmos de Optimizacion\n",
        "\n",
        "Nombre: Javier Gatón Herguedas\n",
        "\n",
        "https://colab.research.google.com/drive/14gpLJ2mzeG8G7wXy9ZpXFpB0lVTQiJ6X?usp=sharing\n",
        "\n",
        "https://github.com/javgat/viu-algoritmos-de-optimizacion"
      ]
    },
    {
      "cell_type": "markdown",
      "source": [
        "## Torres de Hanoi - Divide y vencerás"
      ],
      "metadata": {
        "id": "j4nEow0jd-60"
      }
    },
    {
      "cell_type": "code",
      "metadata": {
        "id": "rTiqLuX2ZKuL",
        "outputId": "3df6ae58-1d66-4a79-a973-6d3c83befcad",
        "colab": {
          "base_uri": "https://localhost:8080/"
        }
      },
      "source": [
        "def torres_hanoi(n_fichas: int, desde: int, hasta: int):\n",
        "  # n_fichas - Nº de fichas\n",
        "  # desde - Torre inicial. 1, 2 o 3.\n",
        "  # hasta - Torre final. 1, 2 o 3.\n",
        "  if n_fichas==1 :\n",
        "    print(\"Lleva la ficha desde \" + str(desde) + \" hasta \" + str(hasta))\n",
        "  else:\n",
        "    torres_hanoi(n_fichas-1, desde, 6-desde-hasta)\n",
        "    print(\"Lleva la ficha desde \" + str(desde) + \" hasta \" + str(hasta))\n",
        "    torres_hanoi(n_fichas-1, 6-desde-hasta,  hasta)\n",
        "\n",
        "\n",
        "torres_hanoi(3, 1, 3)"
      ],
      "execution_count": null,
      "outputs": [
        {
          "output_type": "stream",
          "name": "stdout",
          "text": [
            "Lleva la ficha desde 1 hasta 3\n",
            "Lleva la ficha desde 1 hasta 2\n",
            "Lleva la ficha desde 3 hasta 2\n",
            "Lleva la ficha desde 1 hasta 3\n",
            "Lleva la ficha desde 2 hasta 1\n",
            "Lleva la ficha desde 2 hasta 3\n",
            "Lleva la ficha desde 1 hasta 3\n"
          ]
        }
      ]
    },
    {
      "cell_type": "markdown",
      "source": [
        "## Cambio de monedas - Técnica voraz"
      ],
      "metadata": {
        "id": "WX_RIJ36eQbj"
      }
    },
    {
      "cell_type": "code",
      "metadata": {
        "id": "YwBudj2hYoMR",
        "colab": {
          "base_uri": "https://localhost:8080/"
        },
        "outputId": "a14621c2-6c97-44ad-b479-6920d2f8ce05"
      },
      "source": [
        "def cambio_monedas(cantidad: int , sistema: list):\n",
        "  # cantidad: Cantidad a cambiar\n",
        "  # sistema: Lista de monedas del sistema\n",
        "  solucion = {}\n",
        "  for v in sistema:\n",
        "    monedas = cantidad//v\n",
        "    solucion[v] = monedas\n",
        "    cantidad -= monedas*v\n",
        "    if cantidad == 0:\n",
        "      return solucion\n",
        "  print(\"No es posible encontrar solucion\")\n",
        "\n",
        "\n",
        "cambio_monedas(15, [12, 5 ,2, 1])"
      ],
      "execution_count": null,
      "outputs": [
        {
          "output_type": "execute_result",
          "data": {
            "text/plain": [
              "{12: 1, 5: 0, 2: 1, 1: 1}"
            ]
          },
          "metadata": {},
          "execution_count": 2
        }
      ]
    },
    {
      "cell_type": "markdown",
      "source": [
        "## N Reinas - Vuelta Atrás (Backtracking)"
      ],
      "metadata": {
        "id": "sRCufNJ5ebTC"
      }
    },
    {
      "cell_type": "code",
      "metadata": {
        "id": "H4Iwt2XRZTFr",
        "colab": {
          "base_uri": "https://localhost:8080/"
        },
        "outputId": "8c0e9a86-29ec-490e-ac35-29bcf84fdd93"
      },
      "source": [
        "def escribe_solucion(sol: list):\n",
        "  # Imprime la solución como tablero.\n",
        "  # sol: Solucion del problema de N-Reinas\n",
        "  n = len(sol)\n",
        "  for x in range(n):\n",
        "    print(\"\")\n",
        "    for i in range(n):\n",
        "      if sol[i] == x+1:\n",
        "        print(\" X \" , end=\"\")\n",
        "      else:\n",
        "        print(\" - \", end=\"\")\n",
        "\n",
        "\n",
        "def es_prometedora(solucion: list, etapa: int):\n",
        "  # Verifica que en la solución parcial no hay amenzas entre reinas.\n",
        "  # Si la solución tiene dos valores iguales (dos reinas en la misma fila)\n",
        "  # no es válida.\n",
        "  for i in range(etapa+1):\n",
        "    if solucion.count(solucion[i]) > 1:       \n",
        "      return False\n",
        "    #Verifica las diagonales\n",
        "    for j in range(i+1, etapa +1 ):\n",
        "      if abs(i-j) == abs(solucion[i]-solucion[j]):\n",
        "        return False\n",
        "  return True\n",
        "\n",
        "\n",
        "def reinas(n_reinas: int, solucion: list = [], etapa: int = 0):\n",
        "  # Proceso principal de N-Reinas\n",
        "  # n_reinas: Número de reinas.\n",
        "  # solucion: Lista con la solución actual.\n",
        "  # etapa: Etapa de la solución (profundidad de backtracking y\n",
        "  # columna a rellenar).\n",
        "  if len(solucion) == 0: # [0,0,0...]\n",
        "    solucion = [0 for i in range(n_reinas) ]\n",
        "  for i in range(1, n_reinas+1):\n",
        "    solucion[etapa] = i\n",
        "    if es_prometedora(solucion, etapa):\n",
        "      if etapa == n_reinas-1:\n",
        "        print(solucion)\n",
        "      else:\n",
        "        reinas(n_reinas, solucion, etapa+1)\n",
        "  solucion[etapa] = 0\n",
        "\n",
        "\n",
        "reinas(4)"
      ],
      "execution_count": null,
      "outputs": [
        {
          "output_type": "stream",
          "name": "stdout",
          "text": [
            "[2, 4, 1, 3]\n",
            "[3, 1, 4, 2]\n"
          ]
        }
      ]
    },
    {
      "cell_type": "code",
      "metadata": {
        "id": "eTZclKH9QV0R",
        "colab": {
          "base_uri": "https://localhost:8080/"
        },
        "outputId": "0cdc17a3-880f-47d4-8fe8-d248b4e1397d"
      },
      "source": [
        "escribe_solucion([1, 5, 8, 6, 3, 7, 2, 4])"
      ],
      "execution_count": null,
      "outputs": [
        {
          "output_type": "stream",
          "name": "stdout",
          "text": [
            "\n",
            " X  -  -  -  -  -  -  - \n",
            " -  -  -  -  -  -  X  - \n",
            " -  -  -  -  X  -  -  - \n",
            " -  -  -  -  -  -  -  X \n",
            " -  X  -  -  -  -  -  - \n",
            " -  -  -  X  -  -  -  - \n",
            " -  -  -  -  -  X  -  - \n",
            " -  -  X  -  -  -  -  - "
          ]
        }
      ]
    },
    {
      "cell_type": "markdown",
      "source": [
        "## Viaje por el rio - Programación Dinámica"
      ],
      "metadata": {
        "id": "OpthFh4TgY4b"
      }
    },
    {
      "cell_type": "code",
      "metadata": {
        "id": "TocxR55dQWq5",
        "outputId": "cb1c55d7-ae8b-4fff-92c2-a3007f443415",
        "colab": {
          "base_uri": "https://localhost:8080/"
        }
      },
      "source": [
        "INF = float(\"inf\")\n",
        "\n",
        "def get_precios_y_rutas(tarifas: list) -> tuple:\n",
        "  # Calculo de la matriz de precios y rutas\n",
        "  # N: Total de Nodos\n",
        "  N = len(tarifas[0])\n",
        "  precios = [[INF]*N for i in range(N)]\n",
        "  ruta = [[None]*N for i in range(N)]\n",
        "  for i in range(N):\n",
        "    ruta[i][i] = i # Para ir de i a i se \"pasa por i\"\n",
        "    precios[i][i] = 0 # Para ir de i a i se se paga 0\n",
        "    for j in range(i+1, N):\n",
        "      min_tarifa = tarifas[i][j]\n",
        "      ruta[i][j] = i\n",
        "      for k in range(i, j):\n",
        "        if precios[i][k] + tarifas[k][j] < min_tarifa:\n",
        "            min_tarifa = min(min_tarifa, precios[i][k] + tarifas[k][j] )\n",
        "            ruta[i][j] = k # Anota que para ir de i a j hay que pasar por k\n",
        "        precios[i][j] = min_tarifa\n",
        "  return precios, ruta\n",
        "\n",
        "\n",
        "def calcular_ruta(ruta, desde, hasta) -> list:\n",
        "  #Determinar la ruta con Recursividad\n",
        "  if desde == hasta:\n",
        "    return []\n",
        "  else:\n",
        "    de_a = ruta[desde][hasta]\n",
        "    return calcular_ruta(ruta, desde, de_a) + [de_a]\n",
        "\n",
        "\n",
        "tarifas = [\n",
        "  [0, 5, 4, 3, INF, INF, INF],\n",
        "  [INF, 0, INF, 2, 3, INF, 11],\n",
        "  [INF, INF, 0, 1, INF, 4, 10],\n",
        "  [INF, INF, INF, 0, 5, 6, 9],\n",
        "  [INF, INF, INF, INF, 0, INF, 4],\n",
        "  [INF, INF, INF, INF, INF, 0, 3],\n",
        "  [INF, INF, INF, INF, INF, INF, 0],\n",
        "]\n",
        "\n",
        "precios, rutas = get_precios_y_rutas(tarifas)  \n",
        "\n",
        "print(\"Precios:\")\n",
        "for precio in precios:\n",
        "  print(precio)\n",
        "\n",
        "print(\"Rutas:\")  \n",
        "for ruta in rutas:\n",
        "  print(ruta)  \n",
        "\n",
        "print(\"\\nLa ruta es:\")  \n",
        "calcular_ruta(rutas, 0, 6)  "
      ],
      "execution_count": null,
      "outputs": [
        {
          "output_type": "stream",
          "name": "stdout",
          "text": [
            "Precios:\n",
            "[0, 5, 4, 3, 8, 8, 11]\n",
            "[inf, 0, inf, 2, 3, 8, 7]\n",
            "[inf, inf, 0, 1, 6, 4, 7]\n",
            "[inf, inf, inf, 0, 5, 6, 9]\n",
            "[inf, inf, inf, inf, 0, inf, 4]\n",
            "[inf, inf, inf, inf, inf, 0, 3]\n",
            "[inf, inf, inf, inf, inf, inf, 0]\n",
            "Rutas:\n",
            "[0, 0, 0, 0, 1, 2, 5]\n",
            "[None, 1, 1, 1, 1, 3, 4]\n",
            "[None, None, 2, 2, 3, 2, 5]\n",
            "[None, None, None, 3, 3, 3, 3]\n",
            "[None, None, None, None, 4, 4, 4]\n",
            "[None, None, None, None, None, 5, 5]\n",
            "[None, None, None, None, None, None, 6]\n",
            "\n",
            "La ruta es:\n"
          ]
        },
        {
          "output_type": "execute_result",
          "data": {
            "text/plain": [
              "[0, 2, 5]"
            ]
          },
          "metadata": {},
          "execution_count": 5
        }
      ]
    },
    {
      "cell_type": "markdown",
      "source": [
        "## Práctica individual - Dos puntos más cercanos\n",
        "\n",
        "Primero defino una función de distancia que sirva para cualquier cantidad de dimensiones (utilizando math.dist), el valor infinito, y unas listas en 1 dimensión y 2 dimensiones."
      ],
      "metadata": {
        "id": "kIAPRyI9qlgt"
      }
    },
    {
      "cell_type": "code",
      "source": [
        "import random\n",
        "import math\n",
        "\n",
        "def dist(n0, n1) -> int:\n",
        "  return math.dist(n0, n1)\n",
        "\n",
        "INF = float(\"inf\")\n",
        "LISTA_1D = [(random.randrange(1, 10000),) for x in range(1000)]\n",
        "LISTA_2D = [(random.randrange(1, 10000), random.randrange(1, 10000)) for x in range(1000)]\n"
      ],
      "metadata": {
        "id": "U8zmmbzlqrFW"
      },
      "execution_count": null,
      "outputs": []
    },
    {
      "cell_type": "markdown",
      "source": [
        "### 1D - Fuerza bruta\n",
        "\n",
        "El enfoque más naíf es la resolución por fuerza bruta, donde todos los puntos son comparados con el resto de puntos, y se halla la distancia más pequeña.\n",
        "\n",
        "La complejidad es de O(n²), concretamente k₀ + k₁\\*n\\*(n-1)/2, siendo k₀ y k₁ unos valores entero que varían según qué operaciones se estén contando."
      ],
      "metadata": {
        "id": "feaB2JKI06Nr"
      }
    },
    {
      "cell_type": "code",
      "source": [
        "def mas_cercanos_1d_fuerza_bruta(numeros: list) -> tuple:\n",
        "  # Complejidad: O(n^2)\n",
        "  min_diff = INF\n",
        "  n0 = n1 = None\n",
        "  for i, num in enumerate(numeros):\n",
        "    for j, num2 in enumerate(numeros[i+1:]):\n",
        "      diff = dist(num, num2)\n",
        "      if diff < min_diff:\n",
        "        min_diff = diff\n",
        "        n0 = num\n",
        "        n1 = num2\n",
        "  return n0, n1\n",
        "\n",
        "nums = mas_cercanos_1d_fuerza_bruta(LISTA_1D)\n",
        "print(f\"Los números más cercanos son {nums}.\\\n",
        " Hay que tener en cuenta que es bastante posible que se repitan en la lista de 1D.\")"
      ],
      "metadata": {
        "colab": {
          "base_uri": "https://localhost:8080/"
        },
        "id": "h23mzNFO1Tc6",
        "outputId": "b513fa16-4c25-4b89-e14f-da44aa20dd0f"
      },
      "execution_count": null,
      "outputs": [
        {
          "output_type": "stream",
          "name": "stdout",
          "text": [
            "Los números más cercanos son ((8546,), (8546,)). Hay que tener en cuenta que es bastante posible que se repitan en la lista de 1D.\n"
          ]
        }
      ]
    },
    {
      "cell_type": "markdown",
      "source": [
        "### 1D - Divide y vencerás\n",
        "\n",
        "Para realizar divide y vencerás en una dimensión se puede ordenar la lista de números con la función sorted de O(nlogn), y dividir la lista de números en dos, calculando recursivamente para cada mitad cual es el par de menor diferencia, y después se comparan los pares resultantes.\n",
        "\n",
        "Como los números pertenecientes al par de menor diferencia podrían ser separados\n",
        "al dividir la lista de números, es importante que el número de la mitad sea enviado a ambas mitades de la lista.\n",
        "\n",
        "La base de esta recursión sería una lista de longitudes 2 ó 3, donde si es de longitud 2 el par sería la lista en sí, y si es longitud 3 sería el par de menor diferencia entre el primer y segundo elemento, y el segundo y el tercero.\n",
        "\n",
        "La complejidad del algoritmo sería de O(nlogn), ya que la ordenación es de O(nlogn) y tiene una complejidad mayor que el resto del algoritmo. El resto del algoritmo es de O(n)."
      ],
      "metadata": {
        "id": "44kUYpsA1NSp"
      }
    },
    {
      "cell_type": "code",
      "source": [
        "def mas_cercanos_1d_divide_y_venceras_rec(numeros: list) -> tuple:\n",
        "  # Asumiendo que numeros está ordenado\n",
        "  # O(n)\n",
        "  if len(numeros) < 4:\n",
        "    if len(numeros) == 2:\n",
        "      return (numeros[0], numeros[1])\n",
        "    else: # len = 3\n",
        "      par0 = (numeros[0], numeros[1])\n",
        "      par1 = (numeros[1], numeros[2])\n",
        "      if dist(*par1) < dist(*par0):\n",
        "        return par1\n",
        "      return par0\n",
        "  mitad = len(numeros)//2\n",
        "  par0 = mas_cercanos_1d_divide_y_venceras_rec(numeros[:mitad+1])\n",
        "  par1 = mas_cercanos_1d_divide_y_venceras_rec(numeros[mitad:])\n",
        "  if dist(*par1) < dist(*par0):\n",
        "    return par1\n",
        "  return par0\n",
        "\n",
        "def mas_cercanos_1d_divide_y_venceras(numeros: list) -> tuple:\n",
        "  # O(n) + O(nlogn) = O(nlogn)\n",
        "  return mas_cercanos_1d_divide_y_venceras_rec(sorted(numeros))"
      ],
      "metadata": {
        "id": "KRLbG0bBxYK2"
      },
      "execution_count": null,
      "outputs": []
    },
    {
      "cell_type": "code",
      "source": [
        "nums = mas_cercanos_1d_divide_y_venceras(LISTA_1D)\n",
        "print(f\"Los números más cercanos son {nums}.\\\n",
        " Hay que tener en cuenta que es bastante posible que se repitan en la lista de 1D.\")"
      ],
      "metadata": {
        "colab": {
          "base_uri": "https://localhost:8080/"
        },
        "id": "aBi0cva_1Qqw",
        "outputId": "ee73607b-d9c5-4ebe-9c0b-b393980c635d"
      },
      "execution_count": null,
      "outputs": [
        {
          "output_type": "stream",
          "name": "stdout",
          "text": [
            "Los números más cercanos son ((142,), (142,)). Hay que tener en cuenta que es bastante posible que se repitan en la lista de 1D.\n"
          ]
        }
      ]
    },
    {
      "cell_type": "markdown",
      "source": [
        "### 1D - Iterativo ordenado\n",
        "\n",
        "Otra opción es ordenar la lista de números y realizar comprobaciones sin utilizar recursividad. Es otro algoritmo de O(nlogn) que puede resultar más eficiente ya que se realizan menos operaciones, ya que el recursivo realizaba los cálculos de distancia en cada recursión, lo que lo convierte en un algoritmo más complejo, aunque sean del mismo orden de complejidad."
      ],
      "metadata": {
        "id": "AW4PuiZE3ucu"
      }
    },
    {
      "cell_type": "code",
      "source": [
        "def mas_cercanos_1d_iterativo(numeros: list) -> tuple:\n",
        "  numeros = sorted(numeros)\n",
        "  min_diff = INF\n",
        "  n0 = n1 = None\n",
        "  for i in range(len(numeros)-1):\n",
        "    diff = dist(numeros[i], numeros[i+1])\n",
        "    if diff < min_diff:\n",
        "      min_diff = diff\n",
        "      n0 = numeros[i]\n",
        "      n1 = numeros[i+1]\n",
        "  return n0, n1"
      ],
      "metadata": {
        "id": "x-o4-xd_7fkY"
      },
      "execution_count": null,
      "outputs": []
    },
    {
      "cell_type": "code",
      "source": [
        "nums = mas_cercanos_1d_iterativo(LISTA_1D)\n",
        "print(f\"Los números más cercanos son {nums}.\\\n",
        " Hay que tener en cuenta que es bastante posible que se repitan en la lista de 1D.\")"
      ],
      "metadata": {
        "colab": {
          "base_uri": "https://localhost:8080/"
        },
        "id": "3AfVT5ey784l",
        "outputId": "cf29cd96-db7a-499a-988a-d932e019d30a"
      },
      "execution_count": null,
      "outputs": [
        {
          "output_type": "stream",
          "name": "stdout",
          "text": [
            "Los números más cercanos son ((142,), (142,)). Hay que tener en cuenta que es bastante posible que se repitan en la lista de 1D.\n"
          ]
        }
      ]
    },
    {
      "cell_type": "markdown",
      "source": [
        "### 2D - Fuerza bruta\n",
        "\n",
        "Los algoritmos de O(nlogn) que estábamos usando para 1D no pueden aplicarse directamente para 2D. Antes de generarlos para 2D implementaré el de fuerza bruta, para poder comprobar que los resultados que obtenga son correctos. El de fuerza bruta para 2D también es de O(n²)."
      ],
      "metadata": {
        "id": "IKmvCfrp40ES"
      }
    },
    {
      "cell_type": "code",
      "source": [
        "def mas_cercanos_2d_fuerza_bruta(numeros: list) -> tuple:\n",
        "  # Complejidad: O(n^2)\n",
        "  min_diff = INF\n",
        "  n0 = n1 = None\n",
        "  for i, num in enumerate(numeros):\n",
        "    for j, num2 in enumerate(numeros[i+1:]):\n",
        "      diff = dist(num, num2)\n",
        "      if diff < min_diff:\n",
        "        min_diff = diff\n",
        "        n0 = num\n",
        "        n1 = num2\n",
        "  return n0, n1\n",
        "\n",
        "nums = mas_cercanos_2d_fuerza_bruta(LISTA_2D)\n",
        "print(f\"Los números más cercanos son {nums}. Distancia: {dist(*nums)}\")"
      ],
      "metadata": {
        "colab": {
          "base_uri": "https://localhost:8080/"
        },
        "id": "IOXB5o7BICAO",
        "outputId": "b1ce0c07-6600-4267-922f-d4a590b664f7"
      },
      "execution_count": null,
      "outputs": [
        {
          "output_type": "stream",
          "name": "stdout",
          "text": [
            "Los números más cercanos son ((7850, 3396), (7844, 3401)). Distancia: 7.810249675906656\n"
          ]
        }
      ]
    },
    {
      "cell_type": "markdown",
      "source": [
        "### 2D - Divide y vencerás.\n",
        "\n",
        "Buscando en internet he encontrado el siguiente artículo: https://www.geeksforgeeks.org/closest-pair-of-points-using-divide-and-conquer-algorithm/\n",
        "\n",
        "En él se explica la forma de calcular los 2 puntos más cercanos en una lista de puntos de dos dimensiones. Es bastante similar a con una dimensión, pues hay que ordenar los puntos según un eje, dividir la lista y encontrar el par de puntos más cercanos de cada lista. Una vez se tienen, se coge la menor distancia y se genera una nueva lista con los números que están a menos distancia que ese valor de una línea ortogonal al eje escogido que pase por el punto medio entre el punto con mayor valor en el eje de la lista de menores valores, y el de menor valor de la lista de mayores valores.\n",
        "\n",
        "Si esa lista de números es de longitud 4, podría darse el caso de que se estuviera en un bucle infinito, con 4 valores equidistantes. Para evitarlo, en caso de que el valor sea igual a 4 se ejecutará el algoritmo por fuerza bruta, lo que prácticamente no afectará a la complejidad pues sólo será en casos base, donde su complejidad puede considerarse constante (6 operaciones).\n",
        "\n",
        "Finalmente tenemos un algoritmo de orden O(nlogn).\n"
      ],
      "metadata": {
        "id": "yDS4kXwL5J4b"
      }
    },
    {
      "cell_type": "code",
      "source": [
        "def mas_cercanos_2d_divide_rec(numeros: list, axis: int) -> tuple:\n",
        "  if len(numeros) < 4:\n",
        "    if len(numeros) == 2:\n",
        "      return (numeros[0], numeros[1])\n",
        "    else: # len = 3\n",
        "      par0 = (numeros[0], numeros[1])\n",
        "      par1 = (numeros[1], numeros[2])\n",
        "      if dist(*par1) < dist(*par0):\n",
        "        return par1\n",
        "      return par0\n",
        "  mitad = len(numeros)//2\n",
        "  par0 = mas_cercanos_2d_divide_rec(numeros[:mitad+1], axis)\n",
        "  par1 = mas_cercanos_2d_divide_rec(numeros[mitad:], axis)\n",
        "  par = par0\n",
        "  if dist(*par0) > dist(*par1):\n",
        "    par = par1\n",
        "  min_dist = dist(*par)\n",
        "  mid_val = (numeros[mitad-1][axis] + numeros[mitad][axis])/2\n",
        "  numeros = [num for num in numeros if abs(num[axis]-mid_val) < min_dist]\n",
        "  if len(numeros) < 2:\n",
        "    return par\n",
        "  if len(numeros) == 4:\n",
        "    par2 = mas_cercanos_2d_fuerza_bruta(numeros)\n",
        "  else:\n",
        "    par2 = mas_cercanos_2d_divide(numeros, (axis+1)%2)\n",
        "  if dist(*par2) < dist(*par):\n",
        "    return par2\n",
        "  return par\n",
        "\n",
        "def mas_cercanos_2d_divide(numeros: list, axis: int = 0) -> tuple:\n",
        "  numeros = sorted(numeros, key=lambda n: n[axis])\n",
        "  return mas_cercanos_2d_divide_rec(numeros, axis)\n",
        "\n",
        "\n",
        "nums = mas_cercanos_2d_divide(LISTA_2D)\n",
        "print(f\"Los números más cercanos son {nums}. Distancia: {dist(*nums)}\")"
      ],
      "metadata": {
        "colab": {
          "base_uri": "https://localhost:8080/"
        },
        "id": "RaM8cwpwKAi6",
        "outputId": "8fa70b01-64d3-44f7-81ed-d20157a4348e"
      },
      "execution_count": null,
      "outputs": [
        {
          "output_type": "stream",
          "name": "stdout",
          "text": [
            "Los números más cercanos son ((7844, 3401), (7850, 3396)). Distancia: 7.810249675906656\n"
          ]
        }
      ]
    },
    {
      "cell_type": "markdown",
      "source": [
        "### ND - Divide y vencerás\n",
        "\n",
        "Este algoritmo puede extenderse a N dimensiones, donde cada vez que se junten las dos mitades se llama de nuevo al algoritmo con una lista reducida y utilizando el siguiente eje en la lista.\n",
        "\n",
        "Aquí el estado base de bucle infinito no sería con 4 elementos, sino con como máximo 2^d siendo d el número de dimensiones, así que si la cantidad de elementos de la lista reducida es mayor de 3 y menor que 2^d, se usará el algoritmo de fuerza bruta sobre la lista para obtener el par de menor distancia."
      ],
      "metadata": {
        "id": "DtmXwGWDE0lE"
      }
    },
    {
      "cell_type": "code",
      "source": [
        "def mas_cercanos_nd_divide_rec(numeros: list, axis: int, dims: int) -> tuple:\n",
        "  if len(numeros) < 4:\n",
        "    if len(numeros) == 2:\n",
        "      return (numeros[0], numeros[1])\n",
        "    else: # len = 3\n",
        "      par0 = (numeros[0], numeros[1])\n",
        "      par1 = (numeros[1], numeros[2])\n",
        "      if dist(*par1) < dist(*par0):\n",
        "        return par1\n",
        "      return par0\n",
        "  mitad = len(numeros)//2\n",
        "  par0 = mas_cercanos_nd_divide_rec(numeros[:mitad+1], axis, dims)\n",
        "  par1 = mas_cercanos_nd_divide_rec(numeros[mitad:], axis, dims)\n",
        "  par = par0\n",
        "  if dist(*par0) > dist(*par1):\n",
        "    par = par1\n",
        "  min_dist = dist(*par)\n",
        "  mid_val = (numeros[mitad][axis] + numeros[mitad+1][axis])/2\n",
        "  numeros = [num for num in numeros if abs(num[axis]-mid_val) < min_dist]\n",
        "  if len(numeros) < 2:\n",
        "    return par\n",
        "  if 3 < len(numeros) <= 2**dims:\n",
        "    par2 = mas_cercanos_nd_fuerza_bruta(numeros)\n",
        "  else:\n",
        "    par2 = mas_cercanos_nd_divide(numeros, (axis+1)%dims)\n",
        "  if dist(*par2) < dist(*par):\n",
        "    return par2\n",
        "  return par\n",
        "\n",
        "def mas_cercanos_nd_divide(numeros: list, axis: int = 0) -> tuple:\n",
        "  dims = len(numeros[0])\n",
        "  numeros = sorted(numeros, key=lambda n: n[axis])\n",
        "  return mas_cercanos_nd_divide_rec(numeros, axis, dims)\n",
        "\n",
        "\n",
        "def mas_cercanos_nd_fuerza_bruta(numeros: list) -> tuple:\n",
        "  # Complejidad: O(n^2)\n",
        "  min_diff = INF\n",
        "  n0 = n1 = None\n",
        "  for i, num in enumerate(numeros):\n",
        "    for j, num2 in enumerate(numeros[i+1:]):\n",
        "      diff = dist(num, num2)\n",
        "      if diff < min_diff:\n",
        "        min_diff = diff\n",
        "        n0 = num\n",
        "        n1 = num2\n",
        "  return n0, n1\n"
      ],
      "metadata": {
        "id": "dJC3SZ1MS6Sv"
      },
      "execution_count": null,
      "outputs": []
    },
    {
      "cell_type": "code",
      "source": [
        "LISTA_3D = [(random.randrange(1, 10000), random.randrange(1, 10000), random.randrange(1, 10000)) for x in range(1000)]\n",
        "nums = mas_cercanos_nd_fuerza_bruta(LISTA_3D)\n",
        "print(f\"Los números más cercanos son {nums}. Distancia: {dist(*nums)}\")\n",
        "nums = mas_cercanos_nd_divide(LISTA_3D)\n",
        "print(f\"Los números más cercanos son {nums}. Distancia: {dist(*nums)}\")\n"
      ],
      "metadata": {
        "colab": {
          "base_uri": "https://localhost:8080/"
        },
        "id": "q_Xqv8IeGItb",
        "outputId": "1531a76f-81a6-414a-f687-f468d73a2b2e"
      },
      "execution_count": null,
      "outputs": [
        {
          "output_type": "stream",
          "name": "stdout",
          "text": [
            "Los números más cercanos son ((6898, 6816, 4731), (6906, 6782, 4715)). Distancia: 38.41874542459709\n",
            "Los números más cercanos son ((6906, 6782, 4715), (6898, 6816, 4731)). Distancia: 38.41874542459709\n"
          ]
        }
      ]
    },
    {
      "cell_type": "markdown",
      "source": [
        "A continuación muestro un código mediante el que se puede comprobar que el algoritmo de divide y vencerás es mucho más eficiente que el de fuerza bruta.\n",
        "\n",
        "La lista es de longitud 1000 para que no dure demasiado, pero con listas de longitud 10000 he observado sumas de tiempos de 150 segundos para el fuerza bruta y menos de 4 segundos para el de divide y vencerás.\n",
        "\n"
      ],
      "metadata": {
        "id": "UZ8nfqdyGrf5"
      }
    },
    {
      "cell_type": "code",
      "source": [
        "import time\n",
        "\n",
        "tbruta = 0\n",
        "tdivide = 0\n",
        "for i in range(10):\n",
        "  LISTA_3D = [(random.randrange(1, 10000), random.randrange(1, 10000), random.randrange(1, 10000)) for x in range(1000)]\n",
        "  t0 = time.time()\n",
        "  cerca0 = mas_cercanos_nd_fuerza_bruta(LISTA_3D)\n",
        "  # print(cerca, dist_nd(*cerca))\n",
        "  tbruta += time.time() - t0\n",
        "  t0 = time.time()\n",
        "  cerca1 = mas_cercanos_nd_divide(LISTA_3D)\n",
        "  # print(cerca, dist_nd(*cerca))\n",
        "  tdivide += time.time() - t0\n",
        "  print(cerca0, cerca1)\n",
        "  assert cerca0[0] == cerca1[0] or cerca0[0] == cerca1[1]\n",
        "  assert cerca0[1] == cerca1[1] or cerca0[1] == cerca1[0]\n",
        "print(f\"Tiempo total por fuerza bruta: {tbruta} segundos.\\nTiempo total por divide y venceras: {tdivide} segundos.\")"
      ],
      "metadata": {
        "colab": {
          "base_uri": "https://localhost:8080/"
        },
        "id": "FOIONxsBTRdQ",
        "outputId": "05162273-29e4-46f1-da3c-7c39c029ea40"
      },
      "execution_count": null,
      "outputs": [
        {
          "output_type": "stream",
          "name": "stdout",
          "text": [
            "((6778, 2602, 3853), (6738, 2613, 3915)) ((6738, 2613, 3915), (6778, 2602, 3853))\n",
            "((2650, 6436, 1364), (2627, 6427, 1356)) ((2627, 6427, 1356), (2650, 6436, 1364))\n",
            "((4467, 1679, 3517), (4448, 1738, 3573)) ((4448, 1738, 3573), (4467, 1679, 3517))\n",
            "((5781, 3034, 3434), (5804, 3020, 3433)) ((5781, 3034, 3434), (5804, 3020, 3433))\n",
            "((9258, 4235, 3208), (9264, 4173, 3213)) ((9258, 4235, 3208), (9264, 4173, 3213))\n",
            "((8732, 1178, 1901), (8702, 1212, 1936)) ((8732, 1178, 1901), (8702, 1212, 1936))\n",
            "((840, 2349, 884), (859, 2389, 966)) ((840, 2349, 884), (859, 2389, 966))\n",
            "((2201, 3231, 4993), (2247, 3167, 4978)) ((2247, 3167, 4978), (2201, 3231, 4993))\n",
            "((5112, 8025, 1649), (5134, 8002, 1597)) ((5112, 8025, 1649), (5134, 8002, 1597))\n",
            "((4580, 1541, 7150), (4669, 1536, 7168)) ((4669, 1536, 7168), (4580, 1541, 7150))\n",
            "Tiempo total por fuerza bruta: 1.3320183753967285 segundos.\n",
            "Tiempo total por divide y venceras: 0.18654274940490723 segundos.\n"
          ]
        }
      ]
    }
  ]
}
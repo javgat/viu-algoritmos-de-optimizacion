{
  "nbformat": 4,
  "nbformat_minor": 0,
  "metadata": {
    "colab": {
      "provenance": [],
      "include_colab_link": true
    },
    "kernelspec": {
      "name": "python3",
      "display_name": "Python 3"
    }
  },
  "cells": [
    {
      "cell_type": "markdown",
      "metadata": {
        "id": "view-in-github",
        "colab_type": "text"
      },
      "source": [
        "<a href=\"https://colab.research.google.com/github/javgat/viu-algoritmos-de-optimizacion/blob/master/Seminario_Algoritmos_Javier_Gat%C3%B3n_Herguedas.ipynb\" target=\"_parent\"><img src=\"https://colab.research.google.com/assets/colab-badge.svg\" alt=\"Open In Colab\"/></a>"
      ]
    },
    {
      "cell_type": "markdown",
      "metadata": {
        "id": "hVbXYX-RfPWh"
      },
      "source": [
        "# Algoritmos de optimización - Seminario<br>\n",
        "Nombre y Apellidos: Javier Gatón Herguedas<br>\n",
        "Drive: https://colab.research.google.com/drive/1cZyXJfWB6tBkHP6kc7geVWn_gTe2e8iL?usp=sharing <br>\n",
        "Url: https://github.com/javgat/viu-algoritmos-de-optimizacion<br>\n",
        "Problema:\n",
        "> 1. Sesiones de doblaje <br>\n",
        "\n",
        "## Descripción del problema:\n",
        "\n",
        "Se precisa coordinar el doblaje de una película. Los actores del doblaje deben coincidir en las tomas en las que sus personajes aparecen juntos en las diferentes tomas. Los actores de doblaje cobran todos la misma cantidad por cada día que deben desplazarse hasta el estudio de grabación independientemente del número de tomas que se graben. No es posible grabar más de 6 tomas por día. El objetivo es planificar las sesiones por día de manera que el gasto por los servicios de los actores de doblaje sea el menor posible.\n",
        "\n",
        "(*) La respuesta es obligatoria\n",
        "\n",
        "\n",
        "\n",
        "\n",
        "\n",
        "                                        "
      ]
    },
    {
      "cell_type": "code",
      "metadata": {
        "id": "AiskKkzZfy4e"
      },
      "source": [
        "# importo librerías que se utilizarán\n",
        "import math\n",
        "from typing import Set, List, FrozenSet\n",
        "from itertools import combinations\n",
        "import random\n",
        "import numpy as np\n",
        "import warnings"
      ],
      "execution_count": 1,
      "outputs": []
    },
    {
      "cell_type": "markdown",
      "metadata": {
        "id": "3_-exlrTgLd-"
      },
      "source": [
        "## Espacio de soluciones\n",
        "\n",
        "(*)¿Cuantas posibilidades hay sin tener en cuenta las restricciones?<br>\n",
        "\n",
        "\n",
        "\n",
        "¿Cuantas posibilidades hay teniendo en cuenta todas las restricciones?\n",
        "\n",
        "\n"
      ]
    },
    {
      "cell_type": "markdown",
      "metadata": {
        "id": "WfCUqJyKhPcw"
      },
      "source": [
        "Respuesta:\n",
        "\n",
        "Para calcular el tamaño del espacio de soluciones necesitamos utilizar los números de Bell, los cuales utilizan los números de Stirling de segundo tipo.\n",
        "\n",
        "### Números de Stirling de Segundo Tipo\n",
        "\n",
        "Los números de Stirling de segundo tipo son la cantidad de maneras que existen de dividir “n” elementos en “k” conjuntos no vacíos.\n",
        "\n",
        "Se pueden definir de forma recursiva como:\n",
        "\n",
        "$S(n, k) = k* S(n-1, k) + S(n-1, k-1)$\n",
        "\n",
        "### Números de Bell\n",
        "\n",
        "Los números de Bell permiten hallar cuantas formas de dividir un conjunto en subconjuntos no vacíos existen, lo cual es exactamente lo que queremos para la primera respuesta.\n",
        "\n",
        "Se definen de la siguiente forma:\n",
        "\n",
        "$ B$<sub>n</sub>$ = \\sum_{k=1}^n S(n,k)$\n",
        "\n",
        "\n",
        "### Números de Stirling de Segundo Tipo y Bell restringidos.\n",
        "\n",
        "Estos números son como los números de Stirling pero donde los subconjuntos tienen un tamaño máximo m.\n",
        "\n",
        "Sabemos su definición recursiva tal que:\n",
        "\n",
        "$S(n+1,k)$<sub>≤m</sub>$ = k * S(n,k)$<sub>≤m</sub>$ + S(n,k−1)$<sub>≤m</sub>$ − \\binom n m * S(n−m,k−1)$<sub>≤m</sub>\n",
        "\n",
        "A partir de ellos se pueden calcular los números de Bell restringidos, que se definen de la siguiente forma:\n",
        "\n",
        "$ B$<sub>n,≤m</sub>$ = \\sum_{k=1}^n S(n,k)$<sub>≤m</sub>\n",
        "\n",
        "### Respuesta\n",
        "\n",
        "Sin tener en cuenta las restricciones, entendiendo las restricciones por \"No es posible grabar más de 6 tomas por día\", entonces hay $B$<sub>30</sub> posibilidades, siendo esto el número de Bell de 30, que vale **846749014511809332450147**.\n",
        "\n",
        "Teniendo en cuenta la restricción de un máximo de 6 tomas por día, entonces podemos calcular las posibilidades existentes utilizando los números de Bell restringidos, entonces la solución es $B$<sub>30,≤6</sub> , que vale **726391948970868949621309**.\n",
        "\n",
        "### Fuentes\n",
        "\n",
        "Números de Stirling de segundo tipo y números de Bell: https://en.wikipedia.org/wiki/Stirling_numbers_of_the_second_kind\n",
        "\n",
        "Números de Stirling de segundo tipo restringidos: https://math.stackexchange.com/questions/2302204/counting-set-partitions-of-1-2-n-into-exactly-k-non-empty-subsets-wi\n",
        "\n",
        "Números de Bell restringidos: https://math.stackexchange.com/questions/3685565/set-partitioning-with-max-partition-size y https://arxiv.org/pdf/1707.08138.pdf"
      ]
    },
    {
      "cell_type": "code",
      "metadata": {
        "id": "iq6Fe32MgpDX",
        "colab": {
          "base_uri": "https://localhost:8080/"
        },
        "outputId": "ad8e3419-940a-4f88-b8ed-8faa23c82cb8"
      },
      "source": [
        "_STIRLING_DICT = {} # Diccionario que uso para almacenar valores de stirling y optimizar los cálculos\n",
        "\n",
        "def stirling2(n, k):\n",
        "  if n == k:\n",
        "    return 1\n",
        "  if k == 0 or n == 0:\n",
        "    return 0\n",
        "  if n < k:\n",
        "    return 0\n",
        "  if (n, k) in _STIRLING_DICT:\n",
        "    return _STIRLING_DICT[(n, k)]\n",
        "  val = k*stirling2(n-1, k) + stirling2(n-1, k-1)\n",
        "  _STIRLING_DICT[(n, k)] = val\n",
        "  return val\n",
        "\n",
        "def bell_number(n: int) -> int:\n",
        "  suma = 0\n",
        "  for k in range(n+1):\n",
        "    suma += stirling2(n, k)\n",
        "  return suma\n",
        "\n",
        "def bell_number_optimized(n: int) -> int:\n",
        "  # Implementación inspirada en https://www.geeksforgeeks.org/bell-numbers-number-of-ways-to-partition-a-set/\n",
        "  bell = [[0 for i in range(n+1)] for j in range(n+1)]\n",
        "  bell[0][0] = 1\n",
        "  for i in range(n):\n",
        "    bell[i+1][0] = bell[i][i]\n",
        "    for j in range(i+1):\n",
        "      bell[i+1][j+1] = bell[i][j] + bell[i+1][j]\n",
        "  return bell[n][0]\n",
        "\n",
        "_STIRLING_RESTRICT_DICT = {}\n",
        "\n",
        "def stirling2restrict(n, k, m):\n",
        "  if n == k:\n",
        "    return 1\n",
        "  if k == 0 or n == 0:\n",
        "    return 0\n",
        "  if n < k:\n",
        "    return 0\n",
        "  if (n, k, m) in _STIRLING_RESTRICT_DICT:\n",
        "    return _STIRLING_RESTRICT_DICT[(n, k, m)]\n",
        "  val = k*stirling2restrict(n-1, k, m) + stirling2restrict(n-1, k-1, m) - math.comb(n-1, m) * stirling2restrict(n-1-m, k-1, m)\n",
        "  _STIRLING_RESTRICT_DICT[(n, k, m)] = val\n",
        "  return val\n",
        "\n",
        "def bell_number_restrict(n: int, m: int) -> int:\n",
        "  suma = 0\n",
        "  for k in range(n+1):\n",
        "    suma += stirling2restrict(n, k, m)\n",
        "  return suma\n",
        "\n",
        "N_ELEMS = 30\n",
        "GROUPS_MAX_SIZE = 6\n",
        "\n",
        "print(f\"Número de Bell de {N_ELEMS} = {bell_number(N_ELEMS)}\")\n",
        "print(f\"Número de Bell de {N_ELEMS} restringido a {GROUPS_MAX_SIZE} = {bell_number_restrict(N_ELEMS, GROUPS_MAX_SIZE)}\")\n"
      ],
      "execution_count": 2,
      "outputs": [
        {
          "output_type": "stream",
          "name": "stdout",
          "text": [
            "Número de Bell de 30 = 846749014511809332450147\n",
            "Número de Bell de 30 restringido a 6 = 726391948970868949621309\n"
          ]
        }
      ]
    },
    {
      "cell_type": "markdown",
      "metadata": {
        "id": "dzynfVJahHoY"
      },
      "source": [
        "## Modelo para el espacio de soluciones<br>\n",
        "(*) ¿Cual es la estructura de datos que mejor se adapta al problema? Argumentalo.(Es posible que hayas elegido una al principio y veas la necesidad de cambiar, argumentalo)\n"
      ]
    },
    {
      "cell_type": "markdown",
      "metadata": {
        "id": "xFIJrOwKi2Ti"
      },
      "source": [
        "Respuesta\n",
        "\n",
        "### Datos de entrada\n",
        "\n",
        "Para los datos de entrada del problema decido usar una lista de conjuntos de enteros. Cada conjunto representará una toma y su contenido son los actores necesarios para la misma.\n",
        "\n",
        "En el ejercicio las tomas están indexadas desde el 1, pero en esta representación se indexarán desde el 0, por lo que la toma i de la hoja de cálculo será representada en la posición i-1 en la lista.\n",
        "\n",
        "Posteriormente, a la hora de imprimir se puede añadir 1 al valor a imprimir para hacer la correlación.\n",
        "\n",
        "Para los actores se mantendrá el valor que había en la hoja de cálculo, pues lo usaré como simplemente un identificador, no un índice, perfectamente podría ser una cadena.\n",
        "\n",
        "### Datos de salida (solución)\n",
        "Inicialmente para la solución pensé que la mejor estructura sería un conjunto de conjuntos de enteros que define qué tomas se graban el mismo día (cada subconjunto era un día). Esto en python se hace con un set de frozensets de index, porque no se puede hacer un set de sets (los sets no son hasheables, tienen que ser inmutables).\n",
        "\n",
        "Sin embargo, para poder explorar las vecindades de la solución decido utilizar una lista de conjuntos, pues así la posición de cada conjunto (día) en la lista, aunque no afecte al coste, sirve para poder crear soluciones vecinas en algoritmos metaheurísticos de forma simple.\n",
        "\n",
        "### Parsing de la hoja de cálculo\n",
        "\n",
        "A continuación muestro como pasar de una cadena con los datos de la hoja de cálculo a la estructura de datos a utilizar."
      ]
    },
    {
      "cell_type": "code",
      "metadata": {
        "id": "38c-7-ejhJmA",
        "colab": {
          "base_uri": "https://localhost:8080/",
          "height": 538
        },
        "outputId": "c1f12311-5322-4aa5-cec2-c6a24a53d712"
      },
      "source": [
        "_EXCEL_TABLE_STR = \"\"\"\n",
        "1 1 1 1 1 0 0 0 0 0\n",
        "0\t0\t1\t1\t1\t0\t0\t0\t0\t0\n",
        "0\t1\t0\t0\t1\t0\t1\t0\t0\t0\n",
        "1\t1\t0\t0\t0\t0\t1\t1\t0\t0\n",
        "0\t1\t0\t1\t0\t0\t0\t1\t0\t0\n",
        "1\t1\t0\t1\t1\t0\t0\t0\t0\t0\n",
        "1\t1\t0\t1\t1\t0\t0\t0\t0\t0\n",
        "1\t1\t0\t0\t0\t1\t0\t0\t0\t0\n",
        "1\t1\t0\t1\t0\t0\t0\t0\t0\t0\n",
        "1\t1\t0\t0\t0\t1\t0\t0\t1\t0\n",
        "1\t1\t1\t0\t1\t0\t0\t1\t0\t0\n",
        "1\t1\t1\t1\t0\t1\t0\t0\t0\t0\n",
        "1\t0\t0\t1\t1\t0\t0\t0\t0\t0\n",
        "1\t0\t1\t0\t0\t1\t0\t0\t0\t0\n",
        "1\t1\t0\t0\t0\t0\t1\t0\t0\t0\n",
        "0\t0\t0\t1\t0\t0\t0\t0\t0\t1\n",
        "1\t0\t1\t0\t0\t0\t0\t0\t0\t0\n",
        "0\t0\t1\t0\t0\t1\t0\t0\t0\t0\n",
        "1\t0\t1\t0\t0\t0\t0\t0\t0\t0\n",
        "1\t0\t1\t1\t1\t0\t0\t0\t0\t0\n",
        "0\t0\t0\t0\t0\t1\t0\t1\t0\t0\n",
        "1\t1\t1\t1\t0\t0\t0\t0\t0\t0\n",
        "1\t0\t1\t0\t0\t0\t0\t0\t0\t0\n",
        "0\t0\t1\t0\t0\t1\t0\t0\t0\t0\n",
        "1\t1\t0\t1\t0\t0\t0\t0\t0\t1\n",
        "1\t0\t1\t0\t1\t0\t0\t0\t1\t0\n",
        "0\t0\t0\t1\t1\t0\t0\t0\t0\t0\n",
        "1\t0\t0\t1\t0\t0\t0\t0\t0\t0\n",
        "1\t0\t0\t0\t1\t1\t0\t0\t0\t0\n",
        "1\t0\t0\t1\t0\t0\t0\t0\t0\t0\"\"\"\n",
        "\n",
        "def _int_and_split(val: str) -> List[List[int]]:\n",
        "  return list(map(int, val.split()))\n",
        "\n",
        "def parse_table(table: str) -> List[Set[int]]:\n",
        "  table_splitted = [row for row in table.split('\\n') if row != '']\n",
        "  table_list = list(map(_int_and_split, table_splitted))\n",
        "  tomas = []\n",
        "  for row in table_list:\n",
        "    toma = {i+1 for i, val in enumerate(row) if val==1}\n",
        "    tomas.append(toma)\n",
        "  return tomas\n",
        "\n",
        "TOMAS_ENUNCIADO = parse_table(_EXCEL_TABLE_STR)\n",
        "display(TOMAS_ENUNCIADO)\n",
        "\n",
        "def print_solucion(solucion: List[Set[int]]):\n",
        "  # Imprime las soluciones indexada en 1\n",
        "  printst = \"Tomas: \"\n",
        "  for i, sol in enumerate(solucion):\n",
        "    printst += f\"Día {i+1}: \"\n",
        "    for j, s in enumerate(sol):\n",
        "      if j == len(sol)-1:\n",
        "        printst += f\"{s+1}. \"\n",
        "      else:\n",
        "        printst += f\"{s+1}, \"\n",
        "  print(printst)"
      ],
      "execution_count": 3,
      "outputs": [
        {
          "output_type": "display_data",
          "data": {
            "text/plain": [
              "[{1, 2, 3, 4, 5},\n",
              " {3, 4, 5},\n",
              " {2, 5, 7},\n",
              " {1, 2, 7, 8},\n",
              " {2, 4, 8},\n",
              " {1, 2, 4, 5},\n",
              " {1, 2, 4, 5},\n",
              " {1, 2, 6},\n",
              " {1, 2, 4},\n",
              " {1, 2, 6, 9},\n",
              " {1, 2, 3, 5, 8},\n",
              " {1, 2, 3, 4, 6},\n",
              " {1, 4, 5},\n",
              " {1, 3, 6},\n",
              " {1, 2, 7},\n",
              " {4, 10},\n",
              " {1, 3},\n",
              " {3, 6},\n",
              " {1, 3},\n",
              " {1, 3, 4, 5},\n",
              " {6, 8},\n",
              " {1, 2, 3, 4},\n",
              " {1, 3},\n",
              " {3, 6},\n",
              " {1, 2, 4, 10},\n",
              " {1, 3, 5, 9},\n",
              " {4, 5},\n",
              " {1, 4},\n",
              " {1, 5, 6},\n",
              " {1, 4}]"
            ]
          },
          "metadata": {}
        }
      ]
    },
    {
      "cell_type": "markdown",
      "metadata": {
        "id": "7Z9U2W7bi-XS"
      },
      "source": [
        "## Según el modelo para el espacio de soluciones\n",
        "\n",
        "(*)¿Cual es la función objetivo?\n",
        "\n",
        "(*)¿Es un problema de maximización o minimización?"
      ]
    },
    {
      "cell_type": "markdown",
      "metadata": {
        "id": "hBalWLM7j1_d"
      },
      "source": [
        "Respuesta\n",
        "\n",
        "Función objetivo: La función es el coste de los actores. El coste de cada actor es el número de días que va, y el coste de los actores es la suma del coste de cada actor.\n",
        "\n",
        "¿Maximización o minimización?: Se trata de minimización, pues queremos minimizar el coste de los actores."
      ]
    },
    {
      "cell_type": "code",
      "metadata": {
        "id": "pDA-rg3Gj5Lz"
      },
      "source": [
        "def coste_actores(sol: List[Set[int]], tomas: List[Set[int]]) -> int:\n",
        "  if sol == None:\n",
        "    return float(\"inf\")\n",
        "  suma = 0\n",
        "  for dia in sol:\n",
        "    suma += len({actor for toma_index in dia for actor in tomas[toma_index]})\n",
        "  return suma"
      ],
      "execution_count": 4,
      "outputs": []
    },
    {
      "cell_type": "markdown",
      "metadata": {
        "id": "rlnTYgY1j6I2"
      },
      "source": [
        "## Diseña un algoritmo para resolver el problema por fuerza bruta"
      ]
    },
    {
      "cell_type": "markdown",
      "metadata": {
        "id": "70rDgxYXkC8r"
      },
      "source": [
        "Respuesta"
      ]
    },
    {
      "cell_type": "code",
      "metadata": {
        "id": "CJb5sQ0qkENy",
        "colab": {
          "base_uri": "https://localhost:8080/"
        },
        "outputId": "4deb0ad4-ed87-4c58-f3b2-aad3fda63c85"
      },
      "source": [
        "def partitions_restricted(collection: list, m: int):\n",
        "  if len(collection) == 1:\n",
        "    yield [ collection ]\n",
        "    return\n",
        "  first = collection[0]\n",
        "  for smaller in partitions_restricted(collection[1:], m):\n",
        "    # insert `first` in each of the subpartition's subsets\n",
        "    for n, subset in enumerate(smaller):\n",
        "      if len(subset) > m-1:\n",
        "        continue\n",
        "      yield smaller[:n] + [[ first ] + subset]  + smaller[n+1:]\n",
        "    # put `first` in its own subset\n",
        "    yield [ [ first ] ] + smaller\n",
        "\n",
        "def tomas_actores_fuerza_bruta(tomas: List[Set[int]], restriccion: int) -> List[Set[int]]:\n",
        "  min_coste = float('inf')\n",
        "  min_sol = None\n",
        "  for part in partitions_restricted([i for i in range(len(tomas))], restriccion):\n",
        "    sol = [set(sub) for sub in part]\n",
        "    coste = coste_actores(sol, tomas)\n",
        "    if coste < min_coste:\n",
        "      min_coste = coste\n",
        "      min_sol = sol\n",
        "  return min_sol\n",
        "\n",
        "\n",
        "#test_tomas = [{1,2}, {2,3}, {1,2,3}, {1,4}, {2,5,6}, {3,4}]\n",
        "test_tomas = [{0}, {0,3}, {0,1,2}, {0,2,3}, {1,3}, {1,2}, {1,2,3}, {2}]\n",
        "_sol = tomas_actores_fuerza_bruta(test_tomas, 3)\n",
        "print_solucion(_sol)\n",
        "print(f\"Coste: {coste_actores(_sol, test_tomas)}\")"
      ],
      "execution_count": 5,
      "outputs": [
        {
          "output_type": "stream",
          "name": "stdout",
          "text": [
            "Tomas: Día 1: 1, 2. Día 2: 3, 4, 5. Día 3: 6, 7, 8. \n",
            "Coste: 9\n"
          ]
        }
      ]
    },
    {
      "cell_type": "markdown",
      "metadata": {
        "id": "tgrnsC2nkFa8"
      },
      "source": [
        "## Calcula la complejidad del algoritmo por fuerza bruta"
      ]
    },
    {
      "cell_type": "markdown",
      "metadata": {
        "id": "9eUd3xwckP68"
      },
      "source": [
        "Respuesta\n",
        "\n",
        "Complejidad: $O(B$<sub>n,≤m</sub>$)$\n",
        "\n",
        "La forma más directa y concreta de expresar la complejidad del algoritmo es utilizar el número de Bell restringido, pues su complejidad es ese número exactamente, que es $O(B$<sub>n,≤m</sub>$)$, siendo $B$<sub>n,≤m</sub> el número de Bell de n restringido a m.\n",
        "\n",
        "Sin embargo, si se quisiera expresar de forma que cualquiera lo entendiera sin necesidad de conocer el número de Bell, se puede decir que su complejidad es $O(n^n - {n^n \\over m})$.\n",
        "\n",
        "Esta complejidad no sé como demostrarla, pues para hallar esta complejidad me he basado en la complejidad del número de Bell normal, que es $O(n^n)$, en mi intuición y en simples comprobaciones utilizando las funciones creadas al inicio del documento.\n",
        "\n",
        "Por ejemplo, para el caso del enunciado, $B$<sub>30,≤6</sub> , he comprobado que $ B$<sub>30</sub>$ - (B$<sub>30</sub>$ / 6) = 0.971 * B$<sub>30,≤6</sub>\n",
        "\n",
        "El orden de complejidad del número de Bell sin restricciones es $O(n^n)$, tal y como se puede deducir a partir de la siguiente relación que se muestra en la Wikipedia:\n",
        "\n",
        "$ B$<sub>n+1</sub>$ = \\sum_{k=0}^n \\binom n k B$<sub>k</sub>\n",
        "\n",
        "Que continúa con:\n",
        "\n",
        "$ B$<sub>n+1</sub>$ \\geq B$<sub>n</sub>$ + nB$<sub>n-1</sub>$ \\geq nB$<sub>n-1</sub>\n",
        "\n",
        "Lo cual implica:\n",
        "\n",
        "$ B$<sub>n+1</sub>$ \\geq n(n-2)(n-4) ... \\geq (n/2)^{n/4} $\n",
        "\n",
        "Lo cual es $O(n^n)$.\n",
        "\n",
        "### Fuentes\n",
        "\n",
        "https://en.wikipedia.org/wiki/Stirling_numbers_of_the_second_kind\n",
        "\n",
        "https://cs.stackexchange.com/questions/92964/computational-complexity-of-bell-numbers"
      ]
    },
    {
      "cell_type": "code",
      "metadata": {
        "id": "rvZWwL-ckRST",
        "colab": {
          "base_uri": "https://localhost:8080/"
        },
        "outputId": "e354d5e0-dc1c-46db-836f-f519d14eda9e"
      },
      "source": [
        "# Ejemplos mencionados:\n",
        "\n",
        "b10 = bell_number_optimized(10)\n",
        "b10_3 = bell_number_restrict(10, 3)\n",
        "print((b10-b10/3)/b10_3)\n",
        "\n",
        "b30 = bell_number_optimized(30)\n",
        "b30_6 = bell_number_restrict(30, 6)\n",
        "print((b30-b30/6)/b30_6)\n",
        "\n",
        "b40 = bell_number_optimized(40)\n",
        "b40_6 = bell_number_restrict(40, 6)\n",
        "print((b40-b40/6)/b40_6)\n",
        "\n",
        "b40_15 = bell_number_restrict(40, 15)\n",
        "print((b40-b40/15)/b40_15)"
      ],
      "execution_count": 6,
      "outputs": [
        {
          "output_type": "stream",
          "name": "stdout",
          "text": [
            "1.2646667539038645\n",
            "0.9714096910897057\n",
            "1.1188390117690865\n",
            "0.9333335261551129\n"
          ]
        }
      ]
    },
    {
      "cell_type": "markdown",
      "metadata": {
        "id": "txbrmLmskReM"
      },
      "source": [
        "## Diseña algoritmo mejorado\n",
        "\n",
        "(*)Diseña un algoritmo que mejore la complejidad del algortimo por fuerza bruta. Argumenta por qué crees que mejora el algoritmo por fuerza bruta"
      ]
    },
    {
      "cell_type": "markdown",
      "metadata": {
        "id": "hLrVwt5QkZPD"
      },
      "source": [
        "Respuesta\n",
        "\n",
        "Inicialmente intento crear una solución voraz basándome en \"sinergías\" entre tomas, relación que hay entre tomas basadas en la cantidad de actores de una toma que son utilizados en otra toma. Concretamente: (num_actores_toma_i - num_actores_toma_i_no_toma_j) / num_actores_toma_i.\n",
        "\n",
        "Genero una tabla de sinergías, la cual utilizo para hallar cuáles son las tomas más \"amigables\" (tomas con mayor media de sinergía con otras tomas), para poder asignarlas a días empezando por las más amigables. Primero selecciono la toma más amigable, y la pongo con las tomas con más sinergía con esa toma, estableciendo también cierta preferencia por aquellas que al mismo tiempo sean poco amigables. Probando diferentes valores he acabado determinando que la fórmula para escoger las tomas compañeras del día es la \"amigabilidad\" con la toma del día al cubo, dividido entre la amigabilidad general de la toma a añadir. Cuando he acabado con el día, hago lo mismo con la siguiente toma más \"amigable\" libre.\n",
        "\n",
        "Este algoritmo voraz consigue resultados bastante buenos (coste 29 para el problema del enunciado), sin embargo creo poder mejorarlo usando metaheurísticas, aunque este algoritmo voraz puede servirme como base para las mismas.\n",
        "\n",
        "Decido aplicar recocido simulado utilizando el algoritmo voraz como base. La vecina de cada iteración es la mejor vecina de entre un conjunto de múltiples vecinas generadas aleatoriamente basándome en 4 entornos. Los entornos son intercambiar 2 tomas de día, mover una toma a otro día, juntar 2 días que puedan ser juntados, e intercambiar 2 parejas de tomas de día, en días de 4 o más tomas.\n",
        "\n",
        "Haciendo esto consigo mejorar levemente la optimización de mi algoritmo, alcanzando una puntuación de 27."
      ]
    },
    {
      "cell_type": "code",
      "source": [
        "def sinergia_tomas(tomas: List[Set[int]]) -> List[List[float]]:\n",
        "  sinergias = []\n",
        "  for i, toma in enumerate(tomas):\n",
        "    toma_sins = []\n",
        "    for j, tcomp in enumerate(tomas):\n",
        "      tactors = len(toma)\n",
        "      sinscore = (tactors - len(toma-tcomp))/tactors\n",
        "      toma_sins.append(sinscore)\n",
        "    sinergias.append(toma_sins)\n",
        "  return sinergias\n",
        "\n",
        "def compact_solutions(solution: List[Set[int]], tomas: List[Set[int]], restriccion: int) -> None:\n",
        "  #sinergias = np.array(sinergia_tomas(tomas))\n",
        "  for i, dia in enumerate(solution):\n",
        "    remove_days = []\n",
        "    if len(dia) < restriccion:\n",
        "      for j in range(i, len(solution)):\n",
        "        if i == j:\n",
        "          continue\n",
        "        dia_propuesto = solution[j]\n",
        "        if len(dia_propuesto)+len(dia) <= restriccion:\n",
        "          dia.update(dia_propuesto)\n",
        "          remove_days.append(j)\n",
        "    for rd in reversed(sorted(remove_days)):\n",
        "      solution.pop(rd)\n",
        "\n",
        "def tomas_actores_greedy_sinergias(tomas: List[Set[int]], restriccion: int) -> List[Set[int]]:\n",
        "  warnings.filterwarnings(\"ignore\", message=\".*Mean of empty slice.*\", category=RuntimeWarning)\n",
        "  sinergias = np.array(sinergia_tomas(tomas))\n",
        "  np.fill_diagonal(sinergias, np.nan)\n",
        "  used_ids = set()\n",
        "  sol = []\n",
        "  coef_popular = 3\n",
        "  coef_individual = 1\n",
        "\n",
        "  while len(used_ids) < len(tomas):\n",
        "    mean_sinergias = np.nanmean(sinergias, axis=0)\n",
        "    popular_indexes = (-mean_sinergias).argsort()\n",
        "    fid = -1\n",
        "    for ffid in popular_indexes:\n",
        "      if ffid not in used_ids:\n",
        "        fid = ffid\n",
        "        break\n",
        "    fid_friendliness = sinergias[fid]\n",
        "    friends_relation = (fid_friendliness**coef_popular)/(mean_sinergias**coef_individual)\n",
        "    id_tochoose = (-friends_relation).argsort()\n",
        "    day = {fid}\n",
        "    has_added = True\n",
        "    cid_id = 0\n",
        "    while len(day) < restriccion and cid_id < len(id_tochoose):\n",
        "      has_added = False\n",
        "      cid = id_tochoose[cid_id]\n",
        "      if cid == fid or cid in used_ids:\n",
        "        cid_id += 1\n",
        "        continue\n",
        "      mean_day = sinergias[cid][[did for did in day]].mean()\n",
        "      if mean_day < mean_sinergias[cid]:\n",
        "        cid_id += 1\n",
        "        continue\n",
        "      day.add(cid)\n",
        "      used_ids.add(cid)\n",
        "      cid_id = 0\n",
        "    used_ids.add(fid)\n",
        "    for did in day:\n",
        "      sinergias[did, :] = np.nan\n",
        "      sinergias[:, did] = np.nan\n",
        "    sol.append(day)\n",
        "  warnings.resetwarnings()\n",
        "  compact_solutions(sol, tomas, restriccion)\n",
        "  return sol\n",
        "\n",
        "sg = tomas_actores_greedy_sinergias(TOMAS_ENUNCIADO, 6)\n",
        "print_solucion(sg)\n",
        "print(f\"Coste: {coste_actores(sg, TOMAS_ENUNCIADO)}\")\n"
      ],
      "metadata": {
        "colab": {
          "base_uri": "https://localhost:8080/"
        },
        "id": "79IXm0gDkmBW",
        "outputId": "2f240728-ae1e-47d1-abf3-b2a1effe3fec"
      },
      "execution_count": 7,
      "outputs": [
        {
          "output_type": "stream",
          "name": "stdout",
          "text": [
            "Tomas: Día 1: 1, 2, 6, 7, 20, 22. Día 2: 8, 9, 10, 12, 14, 25. Día 3: 3, 4, 5, 11, 15, 26. Día 4: 13, 16, 27, 28, 29, 30. Día 5: 17, 18, 19, 21, 23, 24. \n",
            "Coste: 29\n"
          ]
        }
      ]
    },
    {
      "cell_type": "code",
      "metadata": {
        "id": "m1eyM21Vkabg",
        "colab": {
          "base_uri": "https://localhost:8080/"
        },
        "outputId": "fde8a9e4-311e-4a41-8bfb-59b147545c4b"
      },
      "source": [
        "def random_solution(tomas: List[Set[int]], restriccion: int) -> List[Set[int]]:\n",
        "  n_tomas = len(tomas)\n",
        "  tomas_order = list(range(n_tomas))\n",
        "  random.shuffle(tomas_order)\n",
        "  sol = []\n",
        "  while tomas_order:\n",
        "    day_size = random.randint(1, min(restriccion, len(tomas_order)))\n",
        "    sol.append(set(tomas_order[:day_size]))\n",
        "    tomas_order = tomas_order[day_size:]\n",
        "  return sol\n",
        "\n",
        "def swap_tomas(sol: List[Set[int]], id_0: int, id_1: int) -> List[Set[int]]:\n",
        "  new_sol = []\n",
        "  for dia in sol:\n",
        "    new_dia = set(dia)\n",
        "    if id_0 in dia and id_1 not in dia:\n",
        "      new_dia.remove(id_0)\n",
        "      new_dia.add(id_1)\n",
        "    elif id_1 in dia and id_0 not in dia:\n",
        "      new_dia.remove(id_1)\n",
        "      new_dia.add(id_0)\n",
        "    new_sol.append(new_dia)\n",
        "  return new_sol\n",
        "\n",
        "def move_to(sol: List[Set[int]], id_from: int, to_dia: int, restriccion: int) -> List[Set[int]]:\n",
        "  # to_dia un dia existente o uno siguiente para en nuevo dia\n",
        "  new_sol = []  \n",
        "  for dia in sol:\n",
        "    new_dia = set(dia)\n",
        "    if id_from in dia:\n",
        "      new_dia.remove(id_from)\n",
        "    new_sol.append(set(new_dia))\n",
        "  if len(new_sol) == to_dia:\n",
        "    new_dia = {id_from}\n",
        "    new_sol.append(new_dia)\n",
        "  elif len(new_sol[to_dia]) >= restriccion:\n",
        "    raise Exception(f\"Illegal Move {id_from}, {to_dia}. {sol}\")\n",
        "  else:\n",
        "    new_sol[to_dia].add(id_from)\n",
        "  new_sol = [dia for dia in new_sol if dia]\n",
        "  return new_sol\n",
        "\n",
        "def merge_days(sol: List[Set[int]], iddia0: int, iddia1: int, restriccion: int) -> List[Set[int]]:\n",
        "  new_sol = [set(dia) for dia in sol]\n",
        "  new_sol[iddia0].update(new_sol[iddia1])\n",
        "  if len(new_sol[iddia0]) > restriccion:\n",
        "    raise Exception(\"Illegal Move\")\n",
        "  _ = new_sol.pop(iddia1)\n",
        "  return new_sol\n",
        "\n",
        "def swap_two_random_between_days(sol: List[Set[int]], i0: int, i1: int) -> List[Set[int]]:\n",
        "  new_sol = [set(dia) for dia in sol]\n",
        "  leaving0 = random.sample(new_sol[i0], 2)\n",
        "  leaving1 = random.sample(new_sol[i1], 2)\n",
        "  new_sol[i0].difference_update(leaving0)\n",
        "  new_sol[i1].difference_update(leaving1)\n",
        "  new_sol[i0].update(leaving1)\n",
        "  new_sol[i1].update(leaving0)\n",
        "  return new_sol\n",
        "\n",
        "MAX_TRIES_GEN_VECINA = 15\n",
        "\n",
        "def _gen_vecina_aleatorio_swap_tomas(solucion: List[Set[int]], tomas: List[Set[int]]) -> List[Set[int]]:\n",
        "  i = j = 0\n",
        "  iter = 0\n",
        "  check_same_day = True\n",
        "  if len([dia for dia in solucion if len(dia) > 0]) < 2: # Menos de dos dias no vacios\n",
        "    check_same_day = False\n",
        "  while j == i or (check_same_day and [dia for dia in solucion if i in dia and j in dia]):\n",
        "    i, j = random.sample(range(len(tomas)), 2)\n",
        "    iter += 1\n",
        "    if iter > MAX_TRIES_GEN_VECINA:\n",
        "      return None\n",
        "  return swap_tomas(solucion, i, j)\n",
        "\n",
        "def _gen_vecina_aleatorio_move_to(solucion: List[Set[int]], tomas: List[Set[int]], restriccion: int) -> List[Set[int]]:\n",
        "  i = random.randint(0, len(tomas)-1)\n",
        "  j = random.randint(0, len(solucion))\n",
        "  iter = 0\n",
        "  while j < len(solucion) and (i in solucion[j] or len(solucion[j]) == restriccion):\n",
        "    i = random.randint(0, len(tomas)-1)\n",
        "    j = random.randint(0, len(solucion))\n",
        "    iter += 1\n",
        "    if iter > MAX_TRIES_GEN_VECINA:\n",
        "      return None\n",
        "  return move_to(solucion, i, j, restriccion)\n",
        "\n",
        "def _gen_vecina_aleatorio_merge_days(solucion: List[Set[int]], tomas: List[Set[int]], restriccion: int) -> List[Set[int]]:\n",
        "  i = j = 0\n",
        "  iter = 0\n",
        "  while j == i or len(solucion[i])+len(solucion[j]) > restriccion:\n",
        "    i, j = random.sample(range(0, len(solucion)), 2)\n",
        "    iter += 1\n",
        "    if iter > MAX_TRIES_GEN_VECINA:\n",
        "      return None\n",
        "  return merge_days(solucion, i, j, restriccion)\n",
        "\n",
        "def _gen_vecina_aleatorio_swap_dos(solucion: List[Set[int]], tomas: List[Set[int]]) -> List[Set[int]]:\n",
        "  valid_day_indexes = [i for i, day in enumerate(solucion) if len(day) > 3]\n",
        "  if len(valid_day_indexes) < 2:\n",
        "    return None\n",
        "  i = j = 0\n",
        "  iter = 0\n",
        "  while j == i:\n",
        "    i, j = random.sample(valid_day_indexes, 2)\n",
        "    iter += 1\n",
        "    if iter > MAX_TRIES_GEN_VECINA:\n",
        "      return None\n",
        "  return swap_two_random_between_days(solucion, i, j)\n",
        "\n",
        "def genera_vecina_aleatorio_improved(solucion: List[Set[int]], tomas: List[Set[int]], restriccion: int):\n",
        "  each_entorno = 10\n",
        "  vecinas = [_gen_vecina_aleatorio_swap_tomas(solucion, tomas) for _ in range(each_entorno)]\n",
        "  vecinas += [_gen_vecina_aleatorio_move_to(solucion, tomas, restriccion) for _ in range(each_entorno)]\n",
        "  vecinas += [_gen_vecina_aleatorio_merge_days(solucion, tomas, restriccion) for _ in range(each_entorno)]\n",
        "  vecinas += [_gen_vecina_aleatorio_swap_dos(solucion, tomas) for _ in range(each_entorno)]\n",
        "  vecinas = [vec for vec in vecinas if vec is not None]\n",
        "  # Devuelve la mejor\n",
        "  min_coste = float(\"inf\")\n",
        "  min_sol = solucion\n",
        "  for vecina in vecinas:\n",
        "    coste = coste_actores(vecina, tomas)\n",
        "    if coste < min_coste:\n",
        "      min_coste = coste\n",
        "      min_sol = vecina\n",
        "  return min_sol\n",
        "\n",
        "\n",
        "#Funcion de probabilidad para aceptar peores soluciones\n",
        "def probabilidad(temp: float, d) -> bool:\n",
        "  return random.random() <  math.exp(-1*d / temp)\n",
        "\n",
        "#Funcion de descenso de temperatura\n",
        "def bajar_temperatura(temp: float) -> float:\n",
        "  return temp * 0.99\n",
        "\n",
        "\n",
        "def tomas_actores_recocido_simulado(tomas: List[Set[int]], restriccion: int = 6, temp: float = 1000000) -> List[Set[int]]:\n",
        "  solucion_referencia = tomas_actores_greedy_sinergias(tomas, restriccion)\n",
        "  distancia_referencia = coste_actores(solucion_referencia, tomas)\n",
        "  mejor_solucion = solucion_referencia\n",
        "  mejor_distancia = distancia_referencia\n",
        "  while temp > .0001:\n",
        "    vecina = genera_vecina_aleatorio_improved(solucion_referencia, tomas, restriccion)\n",
        "    distancia_vecina = coste_actores(vecina, tomas)\n",
        "    if distancia_vecina < mejor_distancia:\n",
        "      mejor_solucion = vecina\n",
        "      mejor_distancia = distancia_vecina\n",
        "    if distancia_vecina < distancia_referencia or probabilidad(temp, abs(distancia_referencia - distancia_vecina)):\n",
        "      solucion_referencia = vecina\n",
        "      distancia_referencia = distancia_vecina\n",
        "    temp = bajar_temperatura(temp)\n",
        "  return mejor_solucion\n",
        "\n",
        "solrandom = tomas_actores_recocido_simulado(test_tomas, 3)\n",
        "print_solucion(solrandom)\n",
        "print(f\"Coste: {coste_actores(solrandom, test_tomas)}\")\n",
        "\n",
        "solr = tomas_actores_recocido_simulado(TOMAS_ENUNCIADO, 6)\n",
        "print_solucion(solr)\n",
        "print(f\"Coste: {coste_actores(solr, TOMAS_ENUNCIADO)}\")"
      ],
      "execution_count": 11,
      "outputs": [
        {
          "output_type": "stream",
          "name": "stdout",
          "text": [
            "Tomas: Día 1: 1, 3, 6. Día 2: 2, 4, 8. Día 3: 5, 7. \n",
            "Coste: 9\n",
            "Tomas: Día 1: 21, 8, 10, 11, 29, 26. Día 2: 3, 7, 25, 27, 13, 16. Día 3: 17, 18, 19, 23, 24, 14. Día 4: 4, 5, 9, 28, 30, 15. Día 5: 1, 2, 20, 22, 6, 12. \n",
            "Coste: 27\n"
          ]
        }
      ]
    },
    {
      "cell_type": "markdown",
      "metadata": {
        "id": "eGDB4K6uk1iN"
      },
      "source": [
        "## Complejidad de algoritmo mejorado\n",
        "\n",
        "(*)Calcula la complejidad del algoritmo "
      ]
    },
    {
      "cell_type": "markdown",
      "metadata": {
        "id": "NhpTh_BPk1ms"
      },
      "source": [
        "Respuesta\n",
        "\n",
        "Para calcular la complejidad del algoritmo necesito calcular la complejidad de las diferentes tareas que se realizan en él.\n",
        "\n",
        "### Algoritmo voraz\n",
        "\n",
        "Primero el algoritmo voraz, el cual primero calcula las sinergías, lo cual es una función de orden $ O(n²) $, siendo n el número de tomas. Después se realiza un bucle while doble, cuya complejidad dependerá de los datos del problema, pero en el peor caso ambos bucles se ejecutarían n veces, y dentro del bucle exterior se realiza una ordenación, lo que hace que la complejidad de esa sección sea aproximadamente $n*(n+nlogn)$ que equivale a $O(n²logn)$.\n",
        "Finalmente, en el algoritmo voraz se realiza una compactación simple de los días de orden $O(n²)$.\n",
        "\n",
        "Todo esto significa que la complejidad total del algoritmo voraz es $O(n²logn)$.\n",
        "\n",
        "### Recocido simulado\n",
        "\n",
        "Tanto cada función para la generación de vecinas como la función de cálculo de coste son de coste $ O(m) $ siendo m el número de días de la solución. Como el número de días es variable, debería darse en función del número de tomas. Como el número de días va a estar entre n y n/k, siendo k la restricción, puede aproximarse el coste a $ O(n) $.\n",
        "\n",
        "El algoritmo de recocido simulado itera en función de la temperatura, T. El valor T se va multiplicando por 0.99 hasta que alcanza 0.001. Esto significa que se ejecuta $log$<sub>0.99</sub>$0.0001\\over T$ veces. Se puede inferir fácilmente que el orden de complejidad es de $O(nlog$$1\\over T$$)$\n",
        "\n",
        "### Coste total\n",
        "\n",
        "El coste total es la suma de ambos costes, es decir:\n",
        "$$ O(n²logn) + O(nlog(1/T)) = O(n²logn)$$\n",
        "\n",
        "Se puede ver que matemáticamente el coste del recocido simulado afecta a la escalabilidad en menor medida que el algoritmo voraz, sin embargo he comprobado de forma empírica que tiene un coste temporal constante que provoca que tarde más que la parte del algoritmo voraz en muchos casos, como para el caso del enunciado."
      ]
    },
    {
      "cell_type": "markdown",
      "metadata": {
        "id": "3M6QjTsSkmYe"
      },
      "source": [
        "## Según el problema (y tenga sentido), diseña un juego de datos de entrada aleatorios"
      ]
    },
    {
      "cell_type": "markdown",
      "metadata": {
        "id": "Jc3_OlyNkvjZ"
      },
      "source": [
        "Respuesta"
      ]
    },
    {
      "cell_type": "code",
      "metadata": {
        "id": "sJ-N2etjkyWc",
        "colab": {
          "base_uri": "https://localhost:8080/",
          "height": 573
        },
        "outputId": "53a8a9a0-563c-413d-af08-6583a6fc319b"
      },
      "source": [
        "n_actores = random.randint(5,20)\n",
        "n_tomas = random.randint(n_actores,n_actores+30)\n",
        "print(f\"Nº Actores: {n_actores}. Nº Tomas: {n_tomas}.\")\n",
        "tomas_aleatorias = [{*random.sample(range(n_actores), random.randint(1, n_actores))} for t in range(n_tomas)]\n",
        "display(tomas_aleatorias)"
      ],
      "execution_count": 9,
      "outputs": [
        {
          "output_type": "stream",
          "name": "stdout",
          "text": [
            "Nº Actores: 12. Nº Tomas: 31.\n"
          ]
        },
        {
          "output_type": "display_data",
          "data": {
            "text/plain": [
              "[{0, 1, 2, 3, 4, 5, 6, 7, 8, 9, 10, 11},\n",
              " {0, 2, 8, 10},\n",
              " {0, 1, 2, 3, 4, 5, 6, 7, 8, 9, 10, 11},\n",
              " {3, 5, 6, 8, 9},\n",
              " {1, 2, 4, 6, 7, 8, 9, 10, 11},\n",
              " {0, 1, 2, 5, 6, 7, 8, 10, 11},\n",
              " {0, 1, 2, 3, 4, 5, 6, 7, 8, 9, 10},\n",
              " {6},\n",
              " {0, 1, 2, 4, 5, 7, 8, 9, 10, 11},\n",
              " {0, 2, 3, 4, 5, 7, 8, 9, 10},\n",
              " {0, 2, 4, 5, 8, 9, 10, 11},\n",
              " {3},\n",
              " {0, 1, 3, 6, 7, 8, 9, 10, 11},\n",
              " {0, 1, 2, 4, 5, 6, 7, 8, 9, 10},\n",
              " {0, 1, 2, 3, 7, 9},\n",
              " {1, 4, 6, 7, 8, 10},\n",
              " {0, 1, 3, 4, 6, 9},\n",
              " {1, 2, 5, 7, 8, 9, 11},\n",
              " {5, 7, 8, 9, 11},\n",
              " {0, 2, 3, 4, 5, 6, 7, 11},\n",
              " {2, 6, 7, 10},\n",
              " {1, 10},\n",
              " {6, 8, 11},\n",
              " {0, 1, 5, 6, 11},\n",
              " {0, 1, 2, 4, 6, 9, 10},\n",
              " {1, 2, 3, 4, 6, 8, 10, 11},\n",
              " {0, 1, 2, 4, 5, 6, 7, 10, 11},\n",
              " {5, 6, 9},\n",
              " {1, 3, 4, 5, 6, 7, 8, 9, 10, 11},\n",
              " {1, 2},\n",
              " {0, 3, 4, 5, 6, 7, 8, 9, 10, 11}]"
            ]
          },
          "metadata": {}
        }
      ]
    },
    {
      "cell_type": "markdown",
      "metadata": {
        "id": "zy5ZROmjlGo1"
      },
      "source": [
        "## Aplica el algoritmo al juego de datos generado"
      ]
    },
    {
      "cell_type": "markdown",
      "metadata": {
        "id": "_Cmj-PVylMsa"
      },
      "source": [
        "Respuesta"
      ]
    },
    {
      "cell_type": "code",
      "metadata": {
        "id": "Jkx8GeiYlUz1",
        "colab": {
          "base_uri": "https://localhost:8080/"
        },
        "outputId": "e169d545-3616-4e55-fbb8-317605c1d693"
      },
      "source": [
        "sol_datos = tomas_actores_recocido_simulado(tomas_aleatorias, 6)\n",
        "print_solucion(sol_datos)\n",
        "print(f\"Coste algoritmo recocido simulado: {coste_actores(sol_datos, tomas_aleatorias)}\")\n",
        "solran = random_solution(tomas_aleatorias, 6)\n",
        "print_solucion(solran)\n",
        "print(f\"Coste solución aleatoria: {coste_actores(solran, tomas_aleatorias)}\")\n",
        "solgreedy = tomas_actores_greedy_sinergias(tomas_aleatorias, 6)\n",
        "print_solucion(solgreedy)\n",
        "print(f\"Coste algoritmo voraz: {coste_actores(solgreedy, tomas_aleatorias)}\")"
      ],
      "execution_count": 10,
      "outputs": [
        {
          "output_type": "stream",
          "name": "stdout",
          "text": [
            "Tomas: Día 1: 3, 20, 7, 9, 10, 15. Día 2: 18, 19, 5, 25, 11, 14. Día 3: 1, 17, 26, 13, 29, 31. Día 4: 2, 21, 6, 24, 27, 16. Día 5: 30, 22. Día 6: 4, 23, 8, 28, 12. \n",
            "Coste algoritmo recocido simulado: 54\n",
            "Tomas: Día 1: 11, 29. Día 2: 3, 8, 9, 19, 20, 23. Día 3: 15. Día 4: 25, 17, 7. Día 5: 10, 27, 5, 16. Día 6: 1, 6, 13, 14. Día 7: 22, 31. Día 8: 12, 28, 30, 24. Día 9: 2, 4, 21, 18. Día 10: 26. \n",
            "Coste solución aleatoria: 103\n",
            "Tomas: Día 1: 1, 3, 7, 9, 29, 31. Día 2: 5, 6, 10, 11, 14, 27. Día 3: 13, 15, 16, 17, 18, 26. Día 4: 2, 12, 19, 20, 21, 24. Día 5: 25, 30, 22, 8. Día 6: 28, 4, 23. \n",
            "Coste algoritmo voraz: 61\n"
          ]
        }
      ]
    },
    {
      "cell_type": "markdown",
      "metadata": {
        "id": "eTFWUJQrtGcv"
      },
      "source": [
        "## Enumera las referencias que has utilizado(si ha sido necesario) para llevar a cabo el trabajo"
      ]
    },
    {
      "cell_type": "markdown",
      "metadata": {
        "id": "YKQ_mRBttWsP"
      },
      "source": [
        "Respuesta\n",
        "\n",
        "Además de los contenidos propios de la asignatura (Transparencias, actividades guiadas...) he utilizado las siguientes referencias:\n",
        "\n",
        "\n",
        "Números de Stirling de segundo tipo y números de Bell: https://en.wikipedia.org/wiki/Stirling_numbers_of_the_second_kind\n",
        "\n",
        "Números de Stirling de segundo tipo restringidos: https://math.stackexchange.com/questions/2302204/counting-set-partitions-of-1-2-n-into-exactly-k-non-empty-subsets-wi\n",
        "\n",
        "Números de Bell restringidos: https://math.stackexchange.com/questions/3685565/set-partitioning-with-max-partition-size y https://arxiv.org/pdf/1707.08138.pdf"
      ]
    },
    {
      "cell_type": "markdown",
      "metadata": {
        "id": "kAkDPUyRtYyH"
      },
      "source": [
        "## Posibles avances en el problema\n",
        "\n",
        "Describe brevemente las lineas de como crees que es posible avanzar en el estudio del problema. Ten en cuenta incluso posibles variaciones del problema y/o variaciones al alza del tamaño"
      ]
    },
    {
      "cell_type": "markdown",
      "metadata": {
        "id": "IE0uZmo-tZu-"
      },
      "source": [
        "Respuesta\n",
        "\n",
        "Considero que el algoritmo voraz puede ser mejorado, ya que el problema podría someterse a un estudio mucho más prolongado, comparando con muchos más datos de entrada, y posiblemente encontrar un algoritmo voraz similar que de mejores resultados. En la elaboración del algoritmo voraz me centré en que los resultados mejoraran para los datos del enunciado, pero seguramente haya otros datos de entrada posible para los que pudiera ser fácilmente optimizado.\n",
        "\n",
        "La parte del recocido simulado también podría ser mejorada. Sólo obtengo una mejora de dos puntos para la entrada del enunciado, y quizá sea posible mejorar más. Los espacios de vecindad planteados creo que son correctos, pero quizá se podrían generar vecinos mejores de forma inteligente en vez de aleatoria, por ejemplo utilizando la tabla de sinergías. También creo que quizá podría mejorarse utilizando una lista tabú evitando volver a soluciones anteriores que dieron mejor resultado, para así evitar estancarse en mínimos locales, que creo que puede ser un problema que tenga.\n",
        "\n",
        "También podría ser interesante diseñar un algoritmo voraz más simplificado y una generación de vecinas más simple, pues en caso de que se aumente muchísimo el tamaño (por ejemplo millones de tomas y millones de actores), probablemente mi algoritmo dejara de ser factible."
      ]
    }
  ]
}